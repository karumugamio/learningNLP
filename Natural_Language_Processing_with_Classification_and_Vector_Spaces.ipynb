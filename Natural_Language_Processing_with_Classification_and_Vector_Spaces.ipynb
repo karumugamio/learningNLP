{
  "nbformat": 4,
  "nbformat_minor": 0,
  "metadata": {
    "colab": {
      "name": "Natural Language Processing with Classification and Vector Spaces.ipynb",
      "provenance": [],
      "authorship_tag": "ABX9TyPaEEA8y5UJC7+8F4yDM1he",
      "include_colab_link": true
    },
    "kernelspec": {
      "name": "python3",
      "display_name": "Python 3"
    },
    "language_info": {
      "name": "python"
    }
  },
  "cells": [
    {
      "cell_type": "markdown",
      "metadata": {
        "id": "view-in-github",
        "colab_type": "text"
      },
      "source": [
        "<a href=\"https://colab.research.google.com/github/karumugamio/learningNLP/blob/main/Natural_Language_Processing_with_Classification_and_Vector_Spaces.ipynb\" target=\"_parent\"><img src=\"https://colab.research.google.com/assets/colab-badge.svg\" alt=\"Open In Colab\"/></a>"
      ]
    },
    {
      "cell_type": "code",
      "execution_count": null,
      "metadata": {
        "id": "0WJak21aKiPU"
      },
      "outputs": [],
      "source": [
        ""
      ]
    }
  ]
}